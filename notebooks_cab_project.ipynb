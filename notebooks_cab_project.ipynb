{
  "metadata": {
    "language_info": {
      "codemirror_mode": {
        "name": "python",
        "version": 3
      },
      "file_extension": ".py",
      "mimetype": "text/x-python",
      "name": "python",
      "nbconvert_exporter": "python",
      "pygments_lexer": "ipython3",
      "version": "3.8"
    },
    "kernelspec": {
      "name": "python",
      "display_name": "Python (Pyodide)",
      "language": "python"
    }
  },
  "nbformat_minor": 4,
  "nbformat": 4,
  "cells": [
    {
      "cell_type": "code",
      "source": "# loading/ merging files",
      "metadata": {
        "trusted": true
      },
      "execution_count": 4,
      "outputs": []
    },
    {
      "cell_type": "code",
      "source": "#",
      "metadata": {},
      "execution_count": null,
      "outputs": []
    },
    {
      "cell_type": "code",
      "source": "import pandas as pd\ndf_city = pd.read_csv(\"City.csv\")\ndf_cab = pd.read_csv(\"Cab_Data.csv\")\ndf_transaction = pd.read_csv(\"Transaction_ID.csv\")\ndf_customer = pd.read_csv(\"Customer_ID.csv\")",
      "metadata": {
        "trusted": true
      },
      "execution_count": 62,
      "outputs": []
    },
    {
      "cell_type": "code",
      "source": "#import pandas as pd\n#files = ['Cab_Data.csv', 'Transaction_ID.csv', 'City.csv', 'Customer_ID.csv']\n#df3 = pd.DataFrame()\n#for file in files:\n#    data = pd.read_csv(file)\n#    df3 = pd.concat([df3, data], axis=0)\n#df3.to_csv('merged_files.csv', index=False)",
      "metadata": {
        "trusted": true
      },
      "execution_count": 37,
      "outputs": []
    },
    {
      "cell_type": "code",
      "source": "#df_city\n#df_cab\ndf_transaction.shape\n#df_customer\n",
      "metadata": {
        "trusted": true
      },
      "execution_count": 47,
      "outputs": [
        {
          "execution_count": 47,
          "output_type": "execute_result",
          "data": {
            "text/plain": "(440098, 3)"
          },
          "metadata": {}
        }
      ]
    },
    {
      "cell_type": "code",
      "source": "# Date of Travel Column (change hours to actual date)",
      "metadata": {},
      "execution_count": null,
      "outputs": []
    },
    {
      "cell_type": "code",
      "source": "# look at origin later\nfrom datetime import datetime\ndf_cab['Date of Travel'] = pd.to_datetime(df_cab['Date of Travel'], unit = 'D',\n                                                  origin = '1899-12-30')",
      "metadata": {
        "trusted": true
      },
      "execution_count": 63,
      "outputs": []
    },
    {
      "cell_type": "code",
      "source": "df_cab",
      "metadata": {
        "trusted": true
      },
      "execution_count": 64,
      "outputs": [
        {
          "execution_count": 64,
          "output_type": "execute_result",
          "data": {
            "text/plain": "        Transaction ID Date of Travel     Company           City  \\\n0             10000011     2016-01-08    Pink Cab     ATLANTA GA   \n1             10000012     2016-01-06    Pink Cab     ATLANTA GA   \n2             10000013     2016-01-02    Pink Cab     ATLANTA GA   \n3             10000014     2016-01-07    Pink Cab     ATLANTA GA   \n4             10000015     2016-01-03    Pink Cab     ATLANTA GA   \n...                ...            ...         ...            ...   \n359387        10440101     2018-01-08  Yellow Cab  WASHINGTON DC   \n359388        10440104     2018-01-04  Yellow Cab  WASHINGTON DC   \n359389        10440105     2018-01-05  Yellow Cab  WASHINGTON DC   \n359390        10440106     2018-01-05  Yellow Cab  WASHINGTON DC   \n359391        10440107     2018-01-02  Yellow Cab  WASHINGTON DC   \n\n        KM Travelled  Price Charged  Cost of Trip  \n0              30.45         370.95      313.6350  \n1              28.62         358.52      334.8540  \n2               9.04         125.20       97.6320  \n3              33.17         377.40      351.6020  \n4               8.73         114.62       97.7760  \n...              ...            ...           ...  \n359387          4.80          69.24       63.3600  \n359388          8.40         113.75      106.8480  \n359389         27.75         437.07      349.6500  \n359390          8.80         146.19      114.0480  \n359391         12.76         191.58      177.6192  \n\n[359392 rows x 7 columns]",
            "text/html": "<div>\n<style scoped>\n    .dataframe tbody tr th:only-of-type {\n        vertical-align: middle;\n    }\n\n    .dataframe tbody tr th {\n        vertical-align: top;\n    }\n\n    .dataframe thead th {\n        text-align: right;\n    }\n</style>\n<table border=\"1\" class=\"dataframe\">\n  <thead>\n    <tr style=\"text-align: right;\">\n      <th></th>\n      <th>Transaction ID</th>\n      <th>Date of Travel</th>\n      <th>Company</th>\n      <th>City</th>\n      <th>KM Travelled</th>\n      <th>Price Charged</th>\n      <th>Cost of Trip</th>\n    </tr>\n  </thead>\n  <tbody>\n    <tr>\n      <th>0</th>\n      <td>10000011</td>\n      <td>2016-01-08</td>\n      <td>Pink Cab</td>\n      <td>ATLANTA GA</td>\n      <td>30.45</td>\n      <td>370.95</td>\n      <td>313.6350</td>\n    </tr>\n    <tr>\n      <th>1</th>\n      <td>10000012</td>\n      <td>2016-01-06</td>\n      <td>Pink Cab</td>\n      <td>ATLANTA GA</td>\n      <td>28.62</td>\n      <td>358.52</td>\n      <td>334.8540</td>\n    </tr>\n    <tr>\n      <th>2</th>\n      <td>10000013</td>\n      <td>2016-01-02</td>\n      <td>Pink Cab</td>\n      <td>ATLANTA GA</td>\n      <td>9.04</td>\n      <td>125.20</td>\n      <td>97.6320</td>\n    </tr>\n    <tr>\n      <th>3</th>\n      <td>10000014</td>\n      <td>2016-01-07</td>\n      <td>Pink Cab</td>\n      <td>ATLANTA GA</td>\n      <td>33.17</td>\n      <td>377.40</td>\n      <td>351.6020</td>\n    </tr>\n    <tr>\n      <th>4</th>\n      <td>10000015</td>\n      <td>2016-01-03</td>\n      <td>Pink Cab</td>\n      <td>ATLANTA GA</td>\n      <td>8.73</td>\n      <td>114.62</td>\n      <td>97.7760</td>\n    </tr>\n    <tr>\n      <th>...</th>\n      <td>...</td>\n      <td>...</td>\n      <td>...</td>\n      <td>...</td>\n      <td>...</td>\n      <td>...</td>\n      <td>...</td>\n    </tr>\n    <tr>\n      <th>359387</th>\n      <td>10440101</td>\n      <td>2018-01-08</td>\n      <td>Yellow Cab</td>\n      <td>WASHINGTON DC</td>\n      <td>4.80</td>\n      <td>69.24</td>\n      <td>63.3600</td>\n    </tr>\n    <tr>\n      <th>359388</th>\n      <td>10440104</td>\n      <td>2018-01-04</td>\n      <td>Yellow Cab</td>\n      <td>WASHINGTON DC</td>\n      <td>8.40</td>\n      <td>113.75</td>\n      <td>106.8480</td>\n    </tr>\n    <tr>\n      <th>359389</th>\n      <td>10440105</td>\n      <td>2018-01-05</td>\n      <td>Yellow Cab</td>\n      <td>WASHINGTON DC</td>\n      <td>27.75</td>\n      <td>437.07</td>\n      <td>349.6500</td>\n    </tr>\n    <tr>\n      <th>359390</th>\n      <td>10440106</td>\n      <td>2018-01-05</td>\n      <td>Yellow Cab</td>\n      <td>WASHINGTON DC</td>\n      <td>8.80</td>\n      <td>146.19</td>\n      <td>114.0480</td>\n    </tr>\n    <tr>\n      <th>359391</th>\n      <td>10440107</td>\n      <td>2018-01-02</td>\n      <td>Yellow Cab</td>\n      <td>WASHINGTON DC</td>\n      <td>12.76</td>\n      <td>191.58</td>\n      <td>177.6192</td>\n    </tr>\n  </tbody>\n</table>\n<p>359392 rows × 7 columns</p>\n</div>"
          },
          "metadata": {}
        }
      ]
    },
    {
      "cell_type": "code",
      "source": "#pd.concat([df_cab, df_customer], axis=0)\ndf_new=pd.merge(df_transaction, df_customer, left_on='Customer ID', right_on='Customer ID')\ndf_new",
      "metadata": {
        "trusted": true
      },
      "execution_count": 76,
      "outputs": [
        {
          "execution_count": 76,
          "output_type": "execute_result",
          "data": {
            "text/plain": "        Transaction ID  Customer ID Payment_Mode  Gender  Age  \\\n0             10000011        29290         Card    Male   28   \n1             10351127        29290         Cash    Male   28   \n2             10412921        29290         Card    Male   28   \n3             10000012        27703         Card    Male   27   \n4             10320494        27703         Card    Male   27   \n...                ...          ...          ...     ...  ...   \n440093        10439799        12490         Cash    Male   33   \n440094        10439820        14971         Card    Male   30   \n440095        10439838        41414         Card    Male   38   \n440096        10439840        41677         Cash    Male   23   \n440097        10439846        39761         Card  Female   32   \n\n        Income (USD/Month)  \n0                    10813  \n1                    10813  \n2                    10813  \n3                     9237  \n4                     9237  \n...                    ...  \n440093               18713  \n440094               15346  \n440095                3960  \n440096               19454  \n440097               10128  \n\n[440098 rows x 6 columns]",
            "text/html": "<div>\n<style scoped>\n    .dataframe tbody tr th:only-of-type {\n        vertical-align: middle;\n    }\n\n    .dataframe tbody tr th {\n        vertical-align: top;\n    }\n\n    .dataframe thead th {\n        text-align: right;\n    }\n</style>\n<table border=\"1\" class=\"dataframe\">\n  <thead>\n    <tr style=\"text-align: right;\">\n      <th></th>\n      <th>Transaction ID</th>\n      <th>Customer ID</th>\n      <th>Payment_Mode</th>\n      <th>Gender</th>\n      <th>Age</th>\n      <th>Income (USD/Month)</th>\n    </tr>\n  </thead>\n  <tbody>\n    <tr>\n      <th>0</th>\n      <td>10000011</td>\n      <td>29290</td>\n      <td>Card</td>\n      <td>Male</td>\n      <td>28</td>\n      <td>10813</td>\n    </tr>\n    <tr>\n      <th>1</th>\n      <td>10351127</td>\n      <td>29290</td>\n      <td>Cash</td>\n      <td>Male</td>\n      <td>28</td>\n      <td>10813</td>\n    </tr>\n    <tr>\n      <th>2</th>\n      <td>10412921</td>\n      <td>29290</td>\n      <td>Card</td>\n      <td>Male</td>\n      <td>28</td>\n      <td>10813</td>\n    </tr>\n    <tr>\n      <th>3</th>\n      <td>10000012</td>\n      <td>27703</td>\n      <td>Card</td>\n      <td>Male</td>\n      <td>27</td>\n      <td>9237</td>\n    </tr>\n    <tr>\n      <th>4</th>\n      <td>10320494</td>\n      <td>27703</td>\n      <td>Card</td>\n      <td>Male</td>\n      <td>27</td>\n      <td>9237</td>\n    </tr>\n    <tr>\n      <th>...</th>\n      <td>...</td>\n      <td>...</td>\n      <td>...</td>\n      <td>...</td>\n      <td>...</td>\n      <td>...</td>\n    </tr>\n    <tr>\n      <th>440093</th>\n      <td>10439799</td>\n      <td>12490</td>\n      <td>Cash</td>\n      <td>Male</td>\n      <td>33</td>\n      <td>18713</td>\n    </tr>\n    <tr>\n      <th>440094</th>\n      <td>10439820</td>\n      <td>14971</td>\n      <td>Card</td>\n      <td>Male</td>\n      <td>30</td>\n      <td>15346</td>\n    </tr>\n    <tr>\n      <th>440095</th>\n      <td>10439838</td>\n      <td>41414</td>\n      <td>Card</td>\n      <td>Male</td>\n      <td>38</td>\n      <td>3960</td>\n    </tr>\n    <tr>\n      <th>440096</th>\n      <td>10439840</td>\n      <td>41677</td>\n      <td>Cash</td>\n      <td>Male</td>\n      <td>23</td>\n      <td>19454</td>\n    </tr>\n    <tr>\n      <th>440097</th>\n      <td>10439846</td>\n      <td>39761</td>\n      <td>Card</td>\n      <td>Female</td>\n      <td>32</td>\n      <td>10128</td>\n    </tr>\n  </tbody>\n</table>\n<p>440098 rows × 6 columns</p>\n</div>"
          },
          "metadata": {}
        }
      ]
    },
    {
      "cell_type": "code",
      "source": "df_new1=pd.merge",
      "metadata": {},
      "execution_count": null,
      "outputs": []
    },
    {
      "cell_type": "code",
      "source": "",
      "metadata": {},
      "execution_count": null,
      "outputs": []
    }
  ]
}